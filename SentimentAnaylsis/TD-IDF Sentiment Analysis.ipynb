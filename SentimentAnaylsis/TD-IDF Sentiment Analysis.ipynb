{
 "cells": [
  {
   "cell_type": "markdown",
   "id": "0a2d8107",
   "metadata": {},
   "source": [
    "Tutorial came from https://medium.com/analytics-vidhya/sentiment-analysis-on-amazon-reviews-using-tf-idf-approach-c5ab4c36e7a1\n",
    "\n",
    "credits goes to him"
   ]
  },
  {
   "cell_type": "code",
   "execution_count": 127,
   "id": "c7d18197",
   "metadata": {},
   "outputs": [
    {
     "name": "stderr",
     "output_type": "stream",
     "text": [
      "[nltk_data] Downloading package omw-1.4 to C:\\Users\\Yu\n",
      "[nltk_data]     Jin\\AppData\\Roaming\\nltk_data...\n",
      "[nltk_data]   Package omw-1.4 is already up-to-date!\n"
     ]
    },
    {
     "data": {
      "text/plain": [
       "True"
      ]
     },
     "execution_count": 127,
     "metadata": {},
     "output_type": "execute_result"
    }
   ],
   "source": [
    "import urllib.request\n",
    "import gzip\n",
    "import shutil\n",
    "import os\n",
    "from IPython.display import Markdown as md\n",
    "\n",
    "import pandas as pd\n",
    "import numpy as np\n",
    "import nltk\n",
    "from nltk.corpus import stopwords\n",
    "from nltk.stem import WordNetLemmatizer\n",
    "from bs4 import BeautifulSoup\n",
    "import re\n",
    "import string\n",
    "from sklearn.feature_extraction.text import TfidfVectorizer\n",
    "from sklearn.metrics import classification_report\n",
    "from sklearn.model_selection import train_test_split\n",
    "from sklearn.linear_model import LogisticRegression\n",
    "from sklearn.svm import LinearSVC\n",
    "\n",
    "nltk.download('omw-1.4')"
   ]
  },
  {
   "cell_type": "markdown",
   "id": "9e0fa151",
   "metadata": {},
   "source": [
    "# Download the dataset\n",
    "This dataset contains reviews found on amazon with ratings, we will use the reviews to train a model to classify the sentiment of a review posted as positive or negative."
   ]
  },
  {
   "cell_type": "code",
   "execution_count": 8,
   "id": "a191c7aa",
   "metadata": {},
   "outputs": [],
   "source": [
    "url = 'https://s3.amazonaws.com/amazon-reviews-pds/tsv/amazon_reviews_us_Jewelry_v1_00.tsv.gz'\n",
    "filename = 'amazon_reviews_us_Jewelry_v1_00.tsv.gz'\n",
    "if not os.path.exists(filename):\n",
    "    urllib.request.urlretrieve(url, filename)\n",
    "    print(\"Successfully Downloaded {0}\".format(filename))\n",
    "\n",
    "    if filename.endswith(\".gz\"):\n",
    "        with gzip.open(filename, 'rb') as f_in:\n",
    "            with open(\"data.tsv\", 'wb') as f_out:\n",
    "                shutil.copyfileobj(f_in, f_out)\n",
    "    os.remove(filename)"
   ]
  },
  {
   "cell_type": "code",
   "execution_count": 25,
   "id": "4e2b9a7f",
   "metadata": {},
   "outputs": [
    {
     "name": "stderr",
     "output_type": "stream",
     "text": [
      "D:\\WPy64-38100\\python-3.8.10.amd64\\lib\\site-packages\\IPython\\core\\interactiveshell.py:3441: FutureWarning: The error_bad_lines argument has been deprecated and will be removed in a future version.\n",
      "\n",
      "\n",
      "  exec(code_obj, self.user_global_ns, self.user_ns)\n",
      "b'Skipping line 10437: expected 15 fields, saw 22\\nSkipping line 10443: expected 15 fields, saw 22\\nSkipping line 19872: expected 15 fields, saw 22\\nSkipping line 20055: expected 15 fields, saw 22\\nSkipping line 20107: expected 15 fields, saw 22\\nSkipping line 20167: expected 15 fields, saw 22\\nSkipping line 53858: expected 15 fields, saw 22\\n'\n",
      "b'Skipping line 72173: expected 15 fields, saw 22\\nSkipping line 84308: expected 15 fields, saw 22\\nSkipping line 92156: expected 15 fields, saw 22\\nSkipping line 97791: expected 15 fields, saw 22\\nSkipping line 106812: expected 15 fields, saw 22\\n'\n",
      "b'Skipping line 138899: expected 15 fields, saw 22\\nSkipping line 145840: expected 15 fields, saw 22\\nSkipping line 192385: expected 15 fields, saw 22\\nSkipping line 194126: expected 15 fields, saw 22\\n'\n",
      "b'Skipping line 222872: expected 15 fields, saw 22\\nSkipping line 236587: expected 15 fields, saw 22\\nSkipping line 245017: expected 15 fields, saw 22\\n'\n",
      "b'Skipping line 273895: expected 15 fields, saw 22\\nSkipping line 302200: expected 15 fields, saw 22\\n'\n",
      "b'Skipping line 390306: expected 15 fields, saw 22\\n'\n",
      "b'Skipping line 395443: expected 15 fields, saw 22\\nSkipping line 399564: expected 15 fields, saw 22\\nSkipping line 435836: expected 15 fields, saw 22\\nSkipping line 436589: expected 15 fields, saw 22\\n'\n",
      "b'Skipping line 477174: expected 15 fields, saw 22\\nSkipping line 502547: expected 15 fields, saw 22\\nSkipping line 514925: expected 15 fields, saw 22\\n'\n",
      "b'Skipping line 533989: expected 15 fields, saw 22\\nSkipping line 534712: expected 15 fields, saw 22\\nSkipping line 545993: expected 15 fields, saw 22\\nSkipping line 574954: expected 15 fields, saw 22\\nSkipping line 576486: expected 15 fields, saw 22\\n'\n",
      "b'Skipping line 604707: expected 15 fields, saw 22\\nSkipping line 613292: expected 15 fields, saw 22\\nSkipping line 622491: expected 15 fields, saw 22\\nSkipping line 648193: expected 15 fields, saw 22\\n'\n",
      "b'Skipping line 686930: expected 15 fields, saw 22\\nSkipping line 691337: expected 15 fields, saw 22\\n'\n",
      "b'Skipping line 728126: expected 15 fields, saw 22\\nSkipping line 728320: expected 15 fields, saw 22\\nSkipping line 746281: expected 15 fields, saw 22\\n'\n",
      "b'Skipping line 831631: expected 15 fields, saw 22\\nSkipping line 849295: expected 15 fields, saw 22\\n'\n",
      "b'Skipping line 888781: expected 15 fields, saw 22\\n'\n",
      "b'Skipping line 962366: expected 15 fields, saw 22\\nSkipping line 976631: expected 15 fields, saw 22\\n'\n",
      "b'Skipping line 983531: expected 15 fields, saw 22\\n'\n",
      "b'Skipping line 1070597: expected 15 fields, saw 22\\n'\n",
      "b'Skipping line 1191390: expected 15 fields, saw 22\\n'\n",
      "b'Skipping line 1258986: expected 15 fields, saw 22\\nSkipping line 1260478: expected 15 fields, saw 22\\n'\n",
      "b'Skipping line 1318010: expected 15 fields, saw 22\\nSkipping line 1375879: expected 15 fields, saw 22\\n'\n",
      "b'Skipping line 1570444: expected 15 fields, saw 22\\n'\n",
      "b'Skipping line 1690885: expected 15 fields, saw 22\\nSkipping line 1699783: expected 15 fields, saw 22\\n'\n",
      "b'Skipping line 1756053: expected 15 fields, saw 22\\n'\n",
      "D:\\WPy64-38100\\python-3.8.10.amd64\\lib\\site-packages\\IPython\\core\\interactiveshell.py:3441: DtypeWarning: Columns (7) have mixed types.Specify dtype option on import or set low_memory=False.\n",
      "  exec(code_obj, self.user_global_ns, self.user_ns)\n"
     ]
    }
   ],
   "source": [
    "df=pd.read_csv('data.tsv', sep='\\t', header=0, error_bad_lines=False)"
   ]
  },
  {
   "cell_type": "code",
   "execution_count": 26,
   "id": "8ce9e157",
   "metadata": {
    "scrolled": true
   },
   "outputs": [
    {
     "data": {
      "text/html": [
       "<div>\n",
       "<style scoped>\n",
       "    .dataframe tbody tr th:only-of-type {\n",
       "        vertical-align: middle;\n",
       "    }\n",
       "\n",
       "    .dataframe tbody tr th {\n",
       "        vertical-align: top;\n",
       "    }\n",
       "\n",
       "    .dataframe thead th {\n",
       "        text-align: right;\n",
       "    }\n",
       "</style>\n",
       "<table border=\"1\" class=\"dataframe\">\n",
       "  <thead>\n",
       "    <tr style=\"text-align: right;\">\n",
       "      <th></th>\n",
       "      <th>marketplace</th>\n",
       "      <th>customer_id</th>\n",
       "      <th>review_id</th>\n",
       "      <th>product_id</th>\n",
       "      <th>product_parent</th>\n",
       "      <th>product_title</th>\n",
       "      <th>product_category</th>\n",
       "      <th>star_rating</th>\n",
       "      <th>helpful_votes</th>\n",
       "      <th>total_votes</th>\n",
       "      <th>vine</th>\n",
       "      <th>verified_purchase</th>\n",
       "      <th>review_headline</th>\n",
       "      <th>review_body</th>\n",
       "      <th>review_date</th>\n",
       "    </tr>\n",
       "  </thead>\n",
       "  <tbody>\n",
       "    <tr>\n",
       "      <th>0</th>\n",
       "      <td>US</td>\n",
       "      <td>50423057</td>\n",
       "      <td>R135Q3VZ4DQN5N</td>\n",
       "      <td>B00JWXFDMG</td>\n",
       "      <td>657335467</td>\n",
       "      <td>Everbling Purple and Clear Briolette Drop Swar...</td>\n",
       "      <td>Jewelry</td>\n",
       "      <td>5</td>\n",
       "      <td>0.0</td>\n",
       "      <td>0.0</td>\n",
       "      <td>N</td>\n",
       "      <td>Y</td>\n",
       "      <td>Beauties!</td>\n",
       "      <td>so beautiful even tho clearly not high end ......</td>\n",
       "      <td>2015-08-31</td>\n",
       "    </tr>\n",
       "    <tr>\n",
       "      <th>1</th>\n",
       "      <td>US</td>\n",
       "      <td>11262325</td>\n",
       "      <td>R2N0QQ6R4T7YRY</td>\n",
       "      <td>B00W5T1H9W</td>\n",
       "      <td>26030170</td>\n",
       "      <td>925 Sterling Silver Finish 6ct Simulated Diamo...</td>\n",
       "      <td>Jewelry</td>\n",
       "      <td>5</td>\n",
       "      <td>0.0</td>\n",
       "      <td>0.0</td>\n",
       "      <td>N</td>\n",
       "      <td>N</td>\n",
       "      <td>Great product.</td>\n",
       "      <td>Great product.. I got this set for my mother, ...</td>\n",
       "      <td>2015-08-31</td>\n",
       "    </tr>\n",
       "    <tr>\n",
       "      <th>2</th>\n",
       "      <td>US</td>\n",
       "      <td>27541121</td>\n",
       "      <td>R3N5JE5Y4T6W5M</td>\n",
       "      <td>B00M2L6KFY</td>\n",
       "      <td>697845240</td>\n",
       "      <td>Sterling Silver Circle \"Friends Forever\" Infin...</td>\n",
       "      <td>Jewelry</td>\n",
       "      <td>5</td>\n",
       "      <td>0.0</td>\n",
       "      <td>0.0</td>\n",
       "      <td>N</td>\n",
       "      <td>Y</td>\n",
       "      <td>Exactly as pictured and my daughter's friend l...</td>\n",
       "      <td>Exactly as pictured and my daughter's friend l...</td>\n",
       "      <td>2015-08-31</td>\n",
       "    </tr>\n",
       "  </tbody>\n",
       "</table>\n",
       "</div>"
      ],
      "text/plain": [
       "  marketplace  customer_id       review_id  product_id  product_parent  \\\n",
       "0          US     50423057  R135Q3VZ4DQN5N  B00JWXFDMG       657335467   \n",
       "1          US     11262325  R2N0QQ6R4T7YRY  B00W5T1H9W        26030170   \n",
       "2          US     27541121  R3N5JE5Y4T6W5M  B00M2L6KFY       697845240   \n",
       "\n",
       "                                       product_title product_category  \\\n",
       "0  Everbling Purple and Clear Briolette Drop Swar...          Jewelry   \n",
       "1  925 Sterling Silver Finish 6ct Simulated Diamo...          Jewelry   \n",
       "2  Sterling Silver Circle \"Friends Forever\" Infin...          Jewelry   \n",
       "\n",
       "  star_rating  helpful_votes  total_votes vine verified_purchase  \\\n",
       "0           5            0.0          0.0    N                 Y   \n",
       "1           5            0.0          0.0    N                 N   \n",
       "2           5            0.0          0.0    N                 Y   \n",
       "\n",
       "                                     review_headline  \\\n",
       "0                                          Beauties!   \n",
       "1                                     Great product.   \n",
       "2  Exactly as pictured and my daughter's friend l...   \n",
       "\n",
       "                                         review_body review_date  \n",
       "0  so beautiful even tho clearly not high end ......  2015-08-31  \n",
       "1  Great product.. I got this set for my mother, ...  2015-08-31  \n",
       "2  Exactly as pictured and my daughter's friend l...  2015-08-31  "
      ]
     },
     "execution_count": 26,
     "metadata": {},
     "output_type": "execute_result"
    }
   ],
   "source": [
    "df.head(3)"
   ]
  },
  {
   "cell_type": "markdown",
   "id": "a00e9e25",
   "metadata": {},
   "source": [
    "# Text pre-processing\n",
    "\n",
    "We require only the review_body, star_rating columns which describes the reviews, star rating of each review respectively."
   ]
  },
  {
   "cell_type": "code",
   "execution_count": 29,
   "id": "890cf5a6",
   "metadata": {},
   "outputs": [
    {
     "data": {
      "text/html": [
       "<div>\n",
       "<style scoped>\n",
       "    .dataframe tbody tr th:only-of-type {\n",
       "        vertical-align: middle;\n",
       "    }\n",
       "\n",
       "    .dataframe tbody tr th {\n",
       "        vertical-align: top;\n",
       "    }\n",
       "\n",
       "    .dataframe thead th {\n",
       "        text-align: right;\n",
       "    }\n",
       "</style>\n",
       "<table border=\"1\" class=\"dataframe\">\n",
       "  <thead>\n",
       "    <tr style=\"text-align: right;\">\n",
       "      <th></th>\n",
       "      <th>review_body</th>\n",
       "      <th>star_rating</th>\n",
       "    </tr>\n",
       "  </thead>\n",
       "  <tbody>\n",
       "    <tr>\n",
       "      <th>0</th>\n",
       "      <td>so beautiful even tho clearly not high end ......</td>\n",
       "      <td>5</td>\n",
       "    </tr>\n",
       "    <tr>\n",
       "      <th>1</th>\n",
       "      <td>Great product.. I got this set for my mother, ...</td>\n",
       "      <td>5</td>\n",
       "    </tr>\n",
       "    <tr>\n",
       "      <th>2</th>\n",
       "      <td>Exactly as pictured and my daughter's friend l...</td>\n",
       "      <td>5</td>\n",
       "    </tr>\n",
       "    <tr>\n",
       "      <th>3</th>\n",
       "      <td>Love it. Fits great. Super comfortable and nea...</td>\n",
       "      <td>5</td>\n",
       "    </tr>\n",
       "    <tr>\n",
       "      <th>4</th>\n",
       "      <td>Got this as a Mother's Day gift for my Mom and...</td>\n",
       "      <td>5</td>\n",
       "    </tr>\n",
       "    <tr>\n",
       "      <th>...</th>\n",
       "      <td>...</td>\n",
       "      <td>...</td>\n",
       "    </tr>\n",
       "    <tr>\n",
       "      <th>1766987</th>\n",
       "      <td>It is nice looking and everything (it is sterl...</td>\n",
       "      <td>4</td>\n",
       "    </tr>\n",
       "    <tr>\n",
       "      <th>1766988</th>\n",
       "      <td>my boyfriend bought me this last christmas, an...</td>\n",
       "      <td>4</td>\n",
       "    </tr>\n",
       "    <tr>\n",
       "      <th>1766989</th>\n",
       "      <td>This is a great way to quickly start learning ...</td>\n",
       "      <td>4</td>\n",
       "    </tr>\n",
       "    <tr>\n",
       "      <th>1766990</th>\n",
       "      <td>the 14kt gold earrings look remarkable...would...</td>\n",
       "      <td>5</td>\n",
       "    </tr>\n",
       "    <tr>\n",
       "      <th>1766991</th>\n",
       "      <td>It will be a gift to my special friend. We kno...</td>\n",
       "      <td>5</td>\n",
       "    </tr>\n",
       "  </tbody>\n",
       "</table>\n",
       "<p>1766992 rows × 2 columns</p>\n",
       "</div>"
      ],
      "text/plain": [
       "                                               review_body star_rating\n",
       "0        so beautiful even tho clearly not high end ......           5\n",
       "1        Great product.. I got this set for my mother, ...           5\n",
       "2        Exactly as pictured and my daughter's friend l...           5\n",
       "3        Love it. Fits great. Super comfortable and nea...           5\n",
       "4        Got this as a Mother's Day gift for my Mom and...           5\n",
       "...                                                    ...         ...\n",
       "1766987  It is nice looking and everything (it is sterl...           4\n",
       "1766988  my boyfriend bought me this last christmas, an...           4\n",
       "1766989  This is a great way to quickly start learning ...           4\n",
       "1766990  the 14kt gold earrings look remarkable...would...           5\n",
       "1766991  It will be a gift to my special friend. We kno...           5\n",
       "\n",
       "[1766992 rows x 2 columns]"
      ]
     },
     "execution_count": 29,
     "metadata": {},
     "output_type": "execute_result"
    }
   ],
   "source": [
    "df=df[[\"review_body\", \"star_rating\"]]\n",
    "df"
   ]
  },
  {
   "cell_type": "markdown",
   "id": "d5ce4b36",
   "metadata": {},
   "source": [
    "Remove the Null, missing values and reset the index"
   ]
  },
  {
   "cell_type": "code",
   "execution_count": 30,
   "id": "3f3de436",
   "metadata": {},
   "outputs": [
    {
     "data": {
      "text/html": [
       "<div>\n",
       "<style scoped>\n",
       "    .dataframe tbody tr th:only-of-type {\n",
       "        vertical-align: middle;\n",
       "    }\n",
       "\n",
       "    .dataframe tbody tr th {\n",
       "        vertical-align: top;\n",
       "    }\n",
       "\n",
       "    .dataframe thead th {\n",
       "        text-align: right;\n",
       "    }\n",
       "</style>\n",
       "<table border=\"1\" class=\"dataframe\">\n",
       "  <thead>\n",
       "    <tr style=\"text-align: right;\">\n",
       "      <th></th>\n",
       "      <th>review_body</th>\n",
       "      <th>star_rating</th>\n",
       "    </tr>\n",
       "  </thead>\n",
       "  <tbody>\n",
       "    <tr>\n",
       "      <th>0</th>\n",
       "      <td>so beautiful even tho clearly not high end ......</td>\n",
       "      <td>5</td>\n",
       "    </tr>\n",
       "    <tr>\n",
       "      <th>1</th>\n",
       "      <td>Great product.. I got this set for my mother, ...</td>\n",
       "      <td>5</td>\n",
       "    </tr>\n",
       "    <tr>\n",
       "      <th>2</th>\n",
       "      <td>Exactly as pictured and my daughter's friend l...</td>\n",
       "      <td>5</td>\n",
       "    </tr>\n",
       "    <tr>\n",
       "      <th>3</th>\n",
       "      <td>Love it. Fits great. Super comfortable and nea...</td>\n",
       "      <td>5</td>\n",
       "    </tr>\n",
       "    <tr>\n",
       "      <th>4</th>\n",
       "      <td>Got this as a Mother's Day gift for my Mom and...</td>\n",
       "      <td>5</td>\n",
       "    </tr>\n",
       "    <tr>\n",
       "      <th>...</th>\n",
       "      <td>...</td>\n",
       "      <td>...</td>\n",
       "    </tr>\n",
       "    <tr>\n",
       "      <th>1766743</th>\n",
       "      <td>It is nice looking and everything (it is sterl...</td>\n",
       "      <td>4</td>\n",
       "    </tr>\n",
       "    <tr>\n",
       "      <th>1766744</th>\n",
       "      <td>my boyfriend bought me this last christmas, an...</td>\n",
       "      <td>4</td>\n",
       "    </tr>\n",
       "    <tr>\n",
       "      <th>1766745</th>\n",
       "      <td>This is a great way to quickly start learning ...</td>\n",
       "      <td>4</td>\n",
       "    </tr>\n",
       "    <tr>\n",
       "      <th>1766746</th>\n",
       "      <td>the 14kt gold earrings look remarkable...would...</td>\n",
       "      <td>5</td>\n",
       "    </tr>\n",
       "    <tr>\n",
       "      <th>1766747</th>\n",
       "      <td>It will be a gift to my special friend. We kno...</td>\n",
       "      <td>5</td>\n",
       "    </tr>\n",
       "  </tbody>\n",
       "</table>\n",
       "<p>1766748 rows × 2 columns</p>\n",
       "</div>"
      ],
      "text/plain": [
       "                                               review_body star_rating\n",
       "0        so beautiful even tho clearly not high end ......           5\n",
       "1        Great product.. I got this set for my mother, ...           5\n",
       "2        Exactly as pictured and my daughter's friend l...           5\n",
       "3        Love it. Fits great. Super comfortable and nea...           5\n",
       "4        Got this as a Mother's Day gift for my Mom and...           5\n",
       "...                                                    ...         ...\n",
       "1766743  It is nice looking and everything (it is sterl...           4\n",
       "1766744  my boyfriend bought me this last christmas, an...           4\n",
       "1766745  This is a great way to quickly start learning ...           4\n",
       "1766746  the 14kt gold earrings look remarkable...would...           5\n",
       "1766747  It will be a gift to my special friend. We kno...           5\n",
       "\n",
       "[1766748 rows x 2 columns]"
      ]
     },
     "execution_count": 30,
     "metadata": {},
     "output_type": "execute_result"
    }
   ],
   "source": [
    "df = df.dropna()\n",
    "df = df.reset_index(drop=True)\n",
    "df"
   ]
  },
  {
   "cell_type": "markdown",
   "id": "a4137703",
   "metadata": {},
   "source": [
    "Now we have 17,66,748 reviews. The reviews with star rating 4,5 are labelled as positive reviews and 1,2 are labelled as negative reviews. Remove the reviews with star rating 3 as they are considered as neutral."
   ]
  },
  {
   "cell_type": "code",
   "execution_count": 32,
   "id": "8d0b8790",
   "metadata": {
    "scrolled": true
   },
   "outputs": [
    {
     "name": "stderr",
     "output_type": "stream",
     "text": [
      "C:\\Users\\YUJIN~1\\AppData\\Local\\Temp/ipykernel_14892/1618018613.py:1: SettingWithCopyWarning: \n",
      "A value is trying to be set on a copy of a slice from a DataFrame.\n",
      "Try using .loc[row_indexer,col_indexer] = value instead\n",
      "\n",
      "See the caveats in the documentation: https://pandas.pydata.org/pandas-docs/stable/user_guide/indexing.html#returning-a-view-versus-a-copy\n",
      "  df['star_rating']=df['star_rating'].astype(int) #convert the star_rating column to int\n"
     ]
    },
    {
     "data": {
      "text/html": [
       "<div>\n",
       "<style scoped>\n",
       "    .dataframe tbody tr th:only-of-type {\n",
       "        vertical-align: middle;\n",
       "    }\n",
       "\n",
       "    .dataframe tbody tr th {\n",
       "        vertical-align: top;\n",
       "    }\n",
       "\n",
       "    .dataframe thead th {\n",
       "        text-align: right;\n",
       "    }\n",
       "</style>\n",
       "<table border=\"1\" class=\"dataframe\">\n",
       "  <thead>\n",
       "    <tr style=\"text-align: right;\">\n",
       "      <th></th>\n",
       "      <th>review_body</th>\n",
       "      <th>star_rating</th>\n",
       "      <th>label</th>\n",
       "    </tr>\n",
       "  </thead>\n",
       "  <tbody>\n",
       "    <tr>\n",
       "      <th>0</th>\n",
       "      <td>so beautiful even tho clearly not high end ......</td>\n",
       "      <td>5</td>\n",
       "      <td>1</td>\n",
       "    </tr>\n",
       "    <tr>\n",
       "      <th>1</th>\n",
       "      <td>Great product.. I got this set for my mother, ...</td>\n",
       "      <td>5</td>\n",
       "      <td>1</td>\n",
       "    </tr>\n",
       "    <tr>\n",
       "      <th>2</th>\n",
       "      <td>Exactly as pictured and my daughter's friend l...</td>\n",
       "      <td>5</td>\n",
       "      <td>1</td>\n",
       "    </tr>\n",
       "    <tr>\n",
       "      <th>3</th>\n",
       "      <td>Love it. Fits great. Super comfortable and nea...</td>\n",
       "      <td>5</td>\n",
       "      <td>1</td>\n",
       "    </tr>\n",
       "    <tr>\n",
       "      <th>4</th>\n",
       "      <td>Got this as a Mother's Day gift for my Mom and...</td>\n",
       "      <td>5</td>\n",
       "      <td>1</td>\n",
       "    </tr>\n",
       "    <tr>\n",
       "      <th>...</th>\n",
       "      <td>...</td>\n",
       "      <td>...</td>\n",
       "      <td>...</td>\n",
       "    </tr>\n",
       "    <tr>\n",
       "      <th>1766743</th>\n",
       "      <td>It is nice looking and everything (it is sterl...</td>\n",
       "      <td>4</td>\n",
       "      <td>1</td>\n",
       "    </tr>\n",
       "    <tr>\n",
       "      <th>1766744</th>\n",
       "      <td>my boyfriend bought me this last christmas, an...</td>\n",
       "      <td>4</td>\n",
       "      <td>1</td>\n",
       "    </tr>\n",
       "    <tr>\n",
       "      <th>1766745</th>\n",
       "      <td>This is a great way to quickly start learning ...</td>\n",
       "      <td>4</td>\n",
       "      <td>1</td>\n",
       "    </tr>\n",
       "    <tr>\n",
       "      <th>1766746</th>\n",
       "      <td>the 14kt gold earrings look remarkable...would...</td>\n",
       "      <td>5</td>\n",
       "      <td>1</td>\n",
       "    </tr>\n",
       "    <tr>\n",
       "      <th>1766747</th>\n",
       "      <td>It will be a gift to my special friend. We kno...</td>\n",
       "      <td>5</td>\n",
       "      <td>1</td>\n",
       "    </tr>\n",
       "  </tbody>\n",
       "</table>\n",
       "<p>1607094 rows × 3 columns</p>\n",
       "</div>"
      ],
      "text/plain": [
       "                                               review_body  star_rating  label\n",
       "0        so beautiful even tho clearly not high end ......            5      1\n",
       "1        Great product.. I got this set for my mother, ...            5      1\n",
       "2        Exactly as pictured and my daughter's friend l...            5      1\n",
       "3        Love it. Fits great. Super comfortable and nea...            5      1\n",
       "4        Got this as a Mother's Day gift for my Mom and...            5      1\n",
       "...                                                    ...          ...    ...\n",
       "1766743  It is nice looking and everything (it is sterl...            4      1\n",
       "1766744  my boyfriend bought me this last christmas, an...            4      1\n",
       "1766745  This is a great way to quickly start learning ...            4      1\n",
       "1766746  the 14kt gold earrings look remarkable...would...            5      1\n",
       "1766747  It will be a gift to my special friend. We kno...            5      1\n",
       "\n",
       "[1607094 rows x 3 columns]"
      ]
     },
     "execution_count": 32,
     "metadata": {},
     "output_type": "execute_result"
    }
   ],
   "source": [
    "df['star_rating']=df['star_rating'].astype(int) #convert the star_rating column to int\n",
    "df=df[df['star_rating']!=3]\n",
    "df['label']=np.where(df['star_rating']>=4,1,0) #1-Positve,0-Negative\n",
    "df"
   ]
  },
  {
   "cell_type": "markdown",
   "id": "1095f7e0",
   "metadata": {},
   "source": [
    "Number of reviews group by star rating"
   ]
  },
  {
   "cell_type": "code",
   "execution_count": 35,
   "id": "7743863b",
   "metadata": {},
   "outputs": [
    {
     "data": {
      "text/plain": [
       "5    1080871\n",
       "4     270424\n",
       "1     155002\n",
       "2     100797\n",
       "Name: star_rating, dtype: int64"
      ]
     },
     "execution_count": 35,
     "metadata": {},
     "output_type": "execute_result"
    }
   ],
   "source": [
    "df['star_rating'].value_counts()"
   ]
  },
  {
   "cell_type": "markdown",
   "id": "76d47936",
   "metadata": {},
   "source": [
    "Now we are creating the model by considering the 100000 reviews. In the 100,000 reviews 50,000 are positive and 50,000 are negative.\n",
    "I am shuffling the review as to take random 100,000 reviews from 1,607,094. You can ignore if you don’t want to shuffle."
   ]
  },
  {
   "cell_type": "code",
   "execution_count": 45,
   "id": "431a360a",
   "metadata": {},
   "outputs": [
    {
     "data": {
      "text/plain": [
       "0    50000\n",
       "1    50000\n",
       "Name: label, dtype: int64"
      ]
     },
     "metadata": {},
     "output_type": "display_data"
    },
    {
     "data": {
      "text/html": [
       "<div>\n",
       "<style scoped>\n",
       "    .dataframe tbody tr th:only-of-type {\n",
       "        vertical-align: middle;\n",
       "    }\n",
       "\n",
       "    .dataframe tbody tr th {\n",
       "        vertical-align: top;\n",
       "    }\n",
       "\n",
       "    .dataframe thead th {\n",
       "        text-align: right;\n",
       "    }\n",
       "</style>\n",
       "<table border=\"1\" class=\"dataframe\">\n",
       "  <thead>\n",
       "    <tr style=\"text-align: right;\">\n",
       "      <th></th>\n",
       "      <th>review_body</th>\n",
       "      <th>star_rating</th>\n",
       "      <th>label</th>\n",
       "    </tr>\n",
       "  </thead>\n",
       "  <tbody>\n",
       "    <tr>\n",
       "      <th>0</th>\n",
       "      <td>Pretty but too flimsy. Not what I expected</td>\n",
       "      <td>1</td>\n",
       "      <td>0</td>\n",
       "    </tr>\n",
       "    <tr>\n",
       "      <th>1</th>\n",
       "      <td>Bad quality, it started to fade after use...</td>\n",
       "      <td>1</td>\n",
       "      <td>0</td>\n",
       "    </tr>\n",
       "    <tr>\n",
       "      <th>2</th>\n",
       "      <td>Very small. Much smaller the looked on tv. Wil...</td>\n",
       "      <td>2</td>\n",
       "      <td>0</td>\n",
       "    </tr>\n",
       "    <tr>\n",
       "      <th>3</th>\n",
       "      <td>fake not silver</td>\n",
       "      <td>1</td>\n",
       "      <td>0</td>\n",
       "    </tr>\n",
       "    <tr>\n",
       "      <th>4</th>\n",
       "      <td>Cheap looking!  What did I expect for it's price?</td>\n",
       "      <td>2</td>\n",
       "      <td>0</td>\n",
       "    </tr>\n",
       "    <tr>\n",
       "      <th>...</th>\n",
       "      <td>...</td>\n",
       "      <td>...</td>\n",
       "      <td>...</td>\n",
       "    </tr>\n",
       "    <tr>\n",
       "      <th>99995</th>\n",
       "      <td>I ordered a silver bird charm to give to my da...</td>\n",
       "      <td>5</td>\n",
       "      <td>1</td>\n",
       "    </tr>\n",
       "    <tr>\n",
       "      <th>99996</th>\n",
       "      <td>Very nice necklace, my fiancé loved it. But th...</td>\n",
       "      <td>4</td>\n",
       "      <td>1</td>\n",
       "    </tr>\n",
       "    <tr>\n",
       "      <th>99997</th>\n",
       "      <td>Necklace appears as expected. Have not given t...</td>\n",
       "      <td>5</td>\n",
       "      <td>1</td>\n",
       "    </tr>\n",
       "    <tr>\n",
       "      <th>99998</th>\n",
       "      <td>This was a gift for my sister from my nephew f...</td>\n",
       "      <td>5</td>\n",
       "      <td>1</td>\n",
       "    </tr>\n",
       "    <tr>\n",
       "      <th>99999</th>\n",
       "      <td>These are wonderful for light pendants, but an...</td>\n",
       "      <td>5</td>\n",
       "      <td>1</td>\n",
       "    </tr>\n",
       "  </tbody>\n",
       "</table>\n",
       "<p>100000 rows × 3 columns</p>\n",
       "</div>"
      ],
      "text/plain": [
       "                                             review_body  star_rating  label\n",
       "0             Pretty but too flimsy. Not what I expected            1      0\n",
       "1           Bad quality, it started to fade after use...            1      0\n",
       "2      Very small. Much smaller the looked on tv. Wil...            2      0\n",
       "3                                        fake not silver            1      0\n",
       "4      Cheap looking!  What did I expect for it's price?            2      0\n",
       "...                                                  ...          ...    ...\n",
       "99995  I ordered a silver bird charm to give to my da...            5      1\n",
       "99996  Very nice necklace, my fiancé loved it. But th...            4      1\n",
       "99997  Necklace appears as expected. Have not given t...            5      1\n",
       "99998  This was a gift for my sister from my nephew f...            5      1\n",
       "99999  These are wonderful for light pendants, but an...            5      1\n",
       "\n",
       "[100000 rows x 3 columns]"
      ]
     },
     "execution_count": 45,
     "metadata": {},
     "output_type": "execute_result"
    }
   ],
   "source": [
    "df = df.sample(frac=1).reset_index(drop=True) #shuffle\n",
    "data=df[df['label']==0][:50000]\n",
    "data=data.append(df[df['label']==1][:50000])\n",
    "data = data.reset_index(drop=True)\n",
    "display(data['label'].value_counts())\n",
    "data"
   ]
  },
  {
   "cell_type": "markdown",
   "id": "2816b713",
   "metadata": {},
   "source": [
    "The first step is convert the all reviews into the lower case."
   ]
  },
  {
   "cell_type": "code",
   "execution_count": 46,
   "id": "fd03a089",
   "metadata": {},
   "outputs": [],
   "source": [
    "data[\"pre_process\"] = data[\"review_body\"].apply(lambda x: \" \".join(x.lower() for x in str(x).split()))"
   ]
  },
  {
   "cell_type": "markdown",
   "id": "7b996af3",
   "metadata": {},
   "source": [
    "Remove the HTML tags and URLs from the reviews."
   ]
  },
  {
   "cell_type": "code",
   "execution_count": 47,
   "id": "f8511088",
   "metadata": {},
   "outputs": [
    {
     "name": "stderr",
     "output_type": "stream",
     "text": [
      "C:\\Users\\Yu Jin\\AppData\\Roaming\\Python\\Python38\\site-packages\\bs4\\__init__.py:417: MarkupResemblesLocatorWarning: \"https://www.amazon.com/review/review-your-purchases/ref=oh_aui_rev_shipment_o00_s00?_encoding=utf8&asins=b01444jlxe&channel=yacc-wr#\" looks like a URL. Beautiful Soup is not an HTTP client. You should probably use an HTTP client like requests to get the document behind the URL, and feed that document to Beautiful Soup.\n",
      "  warnings.warn(\n",
      "C:\\Users\\Yu Jin\\AppData\\Roaming\\Python\\Python38\\site-packages\\bs4\\__init__.py:417: MarkupResemblesLocatorWarning: \"http://www.amazon.com/review/creata-review?ie=utf8&asin=b010xgqugs\" looks like a URL. Beautiful Soup is not an HTTP client. You should probably use an HTTP client like requests to get the document behind the URL, and feed that document to Beautiful Soup.\n",
      "  warnings.warn(\n"
     ]
    }
   ],
   "source": [
    "data[\"pre_process\"]=data[\"pre_process\"].apply(lambda x: BeautifulSoup(x).get_text())\n",
    "data[\"pre_process\"]=data[\"pre_process\"].apply(lambda x: re.sub(r\"http\\S+\", \"\", x))"
   ]
  },
  {
   "cell_type": "markdown",
   "id": "cd38727d",
   "metadata": {},
   "source": [
    "Perform the Contractions on the reviews.  \n",
    "Example: it won’t be converted as it will not be"
   ]
  },
  {
   "cell_type": "code",
   "execution_count": 48,
   "id": "c540eaf3",
   "metadata": {},
   "outputs": [],
   "source": [
    "def contractions(s):\n",
    "    s = re.sub(r\"won't\", \"will not\",s)\n",
    "    s = re.sub(r\"would't\", \"would not\",s)\n",
    "    s = re.sub(r\"could't\", \"could not\",s)\n",
    "    s = re.sub(r\"\\'d\", \" would\",s)\n",
    "    s = re.sub(r\"can\\'t\", \"can not\",s)\n",
    "    s = re.sub(r\"n\\'t\", \" not\", s)\n",
    "    s= re.sub(r\"\\'re\", \" are\", s)\n",
    "    s = re.sub(r\"\\'s\", \" is\", s)\n",
    "    s = re.sub(r\"\\'ll\", \" will\", s)\n",
    "    s = re.sub(r\"\\'t\", \" not\", s)\n",
    "    s = re.sub(r\"\\'ve\", \" have\", s)\n",
    "    s = re.sub(r\"\\'m\", \" am\", s)\n",
    "    return s\n",
    "data['pre_process']=data['pre_process'].apply(lambda x:contractions(x))"
   ]
  },
  {
   "cell_type": "markdown",
   "id": "2465670f",
   "metadata": {},
   "source": [
    "Remove non-alpha characters"
   ]
  },
  {
   "cell_type": "code",
   "execution_count": 49,
   "id": "73487f54",
   "metadata": {},
   "outputs": [
    {
     "data": {
      "text/html": [
       "<div>\n",
       "<style scoped>\n",
       "    .dataframe tbody tr th:only-of-type {\n",
       "        vertical-align: middle;\n",
       "    }\n",
       "\n",
       "    .dataframe tbody tr th {\n",
       "        vertical-align: top;\n",
       "    }\n",
       "\n",
       "    .dataframe thead th {\n",
       "        text-align: right;\n",
       "    }\n",
       "</style>\n",
       "<table border=\"1\" class=\"dataframe\">\n",
       "  <thead>\n",
       "    <tr style=\"text-align: right;\">\n",
       "      <th></th>\n",
       "      <th>review_body</th>\n",
       "      <th>star_rating</th>\n",
       "      <th>label</th>\n",
       "      <th>pre_process</th>\n",
       "    </tr>\n",
       "  </thead>\n",
       "  <tbody>\n",
       "    <tr>\n",
       "      <th>0</th>\n",
       "      <td>Pretty but too flimsy. Not what I expected</td>\n",
       "      <td>1</td>\n",
       "      <td>0</td>\n",
       "      <td>pretty but too flimsy. not what i expected</td>\n",
       "    </tr>\n",
       "    <tr>\n",
       "      <th>1</th>\n",
       "      <td>Bad quality, it started to fade after use...</td>\n",
       "      <td>1</td>\n",
       "      <td>0</td>\n",
       "      <td>bad quality, it started to fade after use...</td>\n",
       "    </tr>\n",
       "    <tr>\n",
       "      <th>2</th>\n",
       "      <td>Very small. Much smaller the looked on tv. Wil...</td>\n",
       "      <td>2</td>\n",
       "      <td>0</td>\n",
       "      <td>very small. much smaller the looked on tv. wil...</td>\n",
       "    </tr>\n",
       "    <tr>\n",
       "      <th>3</th>\n",
       "      <td>fake not silver</td>\n",
       "      <td>1</td>\n",
       "      <td>0</td>\n",
       "      <td>fake not silver</td>\n",
       "    </tr>\n",
       "    <tr>\n",
       "      <th>4</th>\n",
       "      <td>Cheap looking!  What did I expect for it's price?</td>\n",
       "      <td>2</td>\n",
       "      <td>0</td>\n",
       "      <td>cheap looking! what did i expect for it is price?</td>\n",
       "    </tr>\n",
       "    <tr>\n",
       "      <th>...</th>\n",
       "      <td>...</td>\n",
       "      <td>...</td>\n",
       "      <td>...</td>\n",
       "      <td>...</td>\n",
       "    </tr>\n",
       "    <tr>\n",
       "      <th>99995</th>\n",
       "      <td>I ordered a silver bird charm to give to my da...</td>\n",
       "      <td>5</td>\n",
       "      <td>1</td>\n",
       "      <td>i ordered a silver bird charm to give to my da...</td>\n",
       "    </tr>\n",
       "    <tr>\n",
       "      <th>99996</th>\n",
       "      <td>Very nice necklace, my fiancé loved it. But th...</td>\n",
       "      <td>4</td>\n",
       "      <td>1</td>\n",
       "      <td>very nice necklace, my fiancé loved it. but th...</td>\n",
       "    </tr>\n",
       "    <tr>\n",
       "      <th>99997</th>\n",
       "      <td>Necklace appears as expected. Have not given t...</td>\n",
       "      <td>5</td>\n",
       "      <td>1</td>\n",
       "      <td>necklace appears as expected. have not given t...</td>\n",
       "    </tr>\n",
       "    <tr>\n",
       "      <th>99998</th>\n",
       "      <td>This was a gift for my sister from my nephew f...</td>\n",
       "      <td>5</td>\n",
       "      <td>1</td>\n",
       "      <td>this was a gift for my sister from my nephew f...</td>\n",
       "    </tr>\n",
       "    <tr>\n",
       "      <th>99999</th>\n",
       "      <td>These are wonderful for light pendants, but an...</td>\n",
       "      <td>5</td>\n",
       "      <td>1</td>\n",
       "      <td>these are wonderful for light pendants, but an...</td>\n",
       "    </tr>\n",
       "  </tbody>\n",
       "</table>\n",
       "<p>100000 rows × 4 columns</p>\n",
       "</div>"
      ],
      "text/plain": [
       "                                             review_body  star_rating  label  \\\n",
       "0             Pretty but too flimsy. Not what I expected            1      0   \n",
       "1           Bad quality, it started to fade after use...            1      0   \n",
       "2      Very small. Much smaller the looked on tv. Wil...            2      0   \n",
       "3                                        fake not silver            1      0   \n",
       "4      Cheap looking!  What did I expect for it's price?            2      0   \n",
       "...                                                  ...          ...    ...   \n",
       "99995  I ordered a silver bird charm to give to my da...            5      1   \n",
       "99996  Very nice necklace, my fiancé loved it. But th...            4      1   \n",
       "99997  Necklace appears as expected. Have not given t...            5      1   \n",
       "99998  This was a gift for my sister from my nephew f...            5      1   \n",
       "99999  These are wonderful for light pendants, but an...            5      1   \n",
       "\n",
       "                                             pre_process  \n",
       "0             pretty but too flimsy. not what i expected  \n",
       "1           bad quality, it started to fade after use...  \n",
       "2      very small. much smaller the looked on tv. wil...  \n",
       "3                                        fake not silver  \n",
       "4      cheap looking! what did i expect for it is price?  \n",
       "...                                                  ...  \n",
       "99995  i ordered a silver bird charm to give to my da...  \n",
       "99996  very nice necklace, my fiancé loved it. but th...  \n",
       "99997  necklace appears as expected. have not given t...  \n",
       "99998  this was a gift for my sister from my nephew f...  \n",
       "99999  these are wonderful for light pendants, but an...  \n",
       "\n",
       "[100000 rows x 4 columns]"
      ]
     },
     "execution_count": 49,
     "metadata": {},
     "output_type": "execute_result"
    }
   ],
   "source": [
    "data"
   ]
  },
  {
   "cell_type": "markdown",
   "id": "a4c85338",
   "metadata": {},
   "source": [
    "Remove whitespaces and punctuations at the start of the string which hinders wordtokenizer. Then remove non-alpha characters."
   ]
  },
  {
   "cell_type": "code",
   "execution_count": 93,
   "id": "08eb97aa",
   "metadata": {},
   "outputs": [],
   "source": [
    "data['pre_process']=data['pre_process'].apply(lambda x: x.lstrip(string.punctuation + \" \"))"
   ]
  },
  {
   "cell_type": "code",
   "execution_count": 94,
   "id": "f0265a57",
   "metadata": {
    "scrolled": false
   },
   "outputs": [],
   "source": [
    "data['pre_process']=data['pre_process'].apply(lambda x: \" \".join([re.sub('[^A-Za-z]+','', x) for x in nltk.word_tokenize(x)]))"
   ]
  },
  {
   "cell_type": "markdown",
   "id": "5ca8e4c5",
   "metadata": {},
   "source": [
    "Remove extra spaces between the words"
   ]
  },
  {
   "cell_type": "code",
   "execution_count": 95,
   "id": "dd1c28fd",
   "metadata": {},
   "outputs": [],
   "source": [
    "data[\"pre_process\"]=data[\"pre_process\"].apply(lambda x: re.sub(\" +\", \" \", x))"
   ]
  },
  {
   "cell_type": "markdown",
   "id": "9187ecb0",
   "metadata": {},
   "source": [
    "Remove the stop words by using the NLTK package"
   ]
  },
  {
   "cell_type": "code",
   "execution_count": 97,
   "id": "74ccc284",
   "metadata": {},
   "outputs": [],
   "source": [
    "\n",
    "stop = stopwords.words('english')\n",
    "data['pre_process']=data['pre_process'].apply(lambda x: \" \".join([x for x in x.split() if x not in stop]))"
   ]
  },
  {
   "cell_type": "markdown",
   "id": "3612df47",
   "metadata": {},
   "source": [
    "Perform lemmatization using the wordnet lemmatizer"
   ]
  },
  {
   "cell_type": "code",
   "execution_count": 101,
   "id": "30d9c686",
   "metadata": {},
   "outputs": [],
   "source": [
    "\n",
    "lemmatizer = WordNetLemmatizer()\n",
    "data['pre_process']=data['pre_process'].apply(lambda x: \" \".join([lemmatizer.lemmatize(w) for w in nltk.word_tokenize(x)]))"
   ]
  },
  {
   "cell_type": "markdown",
   "id": "96ded8df",
   "metadata": {},
   "source": [
    "The final Pre-processed reviews look as:\n",
    "Original: It looks better in picture. In reality, printing quality is not so good, and I don’t feel any coating.\n",
    "Preprocessed: look better picture reality printing quality good feel coating."
   ]
  },
  {
   "cell_type": "code",
   "execution_count": 102,
   "id": "d50107cb",
   "metadata": {},
   "outputs": [
    {
     "data": {
      "text/html": [
       "<div>\n",
       "<style scoped>\n",
       "    .dataframe tbody tr th:only-of-type {\n",
       "        vertical-align: middle;\n",
       "    }\n",
       "\n",
       "    .dataframe tbody tr th {\n",
       "        vertical-align: top;\n",
       "    }\n",
       "\n",
       "    .dataframe thead th {\n",
       "        text-align: right;\n",
       "    }\n",
       "</style>\n",
       "<table border=\"1\" class=\"dataframe\">\n",
       "  <thead>\n",
       "    <tr style=\"text-align: right;\">\n",
       "      <th></th>\n",
       "      <th>review_body</th>\n",
       "      <th>star_rating</th>\n",
       "      <th>label</th>\n",
       "      <th>pre_process</th>\n",
       "    </tr>\n",
       "  </thead>\n",
       "  <tbody>\n",
       "    <tr>\n",
       "      <th>0</th>\n",
       "      <td>Pretty but too flimsy. Not what I expected</td>\n",
       "      <td>1</td>\n",
       "      <td>0</td>\n",
       "      <td>pretty flimsy expected</td>\n",
       "    </tr>\n",
       "    <tr>\n",
       "      <th>1</th>\n",
       "      <td>Bad quality, it started to fade after use...</td>\n",
       "      <td>1</td>\n",
       "      <td>0</td>\n",
       "      <td>bad quality started fade use</td>\n",
       "    </tr>\n",
       "    <tr>\n",
       "      <th>2</th>\n",
       "      <td>Very small. Much smaller the looked on tv. Wil...</td>\n",
       "      <td>2</td>\n",
       "      <td>0</td>\n",
       "      <td>small much smaller looked tv send backpretty s...</td>\n",
       "    </tr>\n",
       "    <tr>\n",
       "      <th>3</th>\n",
       "      <td>fake not silver</td>\n",
       "      <td>1</td>\n",
       "      <td>0</td>\n",
       "      <td>fake silver</td>\n",
       "    </tr>\n",
       "    <tr>\n",
       "      <th>4</th>\n",
       "      <td>Cheap looking!  What did I expect for it's price?</td>\n",
       "      <td>2</td>\n",
       "      <td>0</td>\n",
       "      <td>cheap looking expect price</td>\n",
       "    </tr>\n",
       "    <tr>\n",
       "      <th>...</th>\n",
       "      <td>...</td>\n",
       "      <td>...</td>\n",
       "      <td>...</td>\n",
       "      <td>...</td>\n",
       "    </tr>\n",
       "    <tr>\n",
       "      <th>99995</th>\n",
       "      <td>I ordered a silver bird charm to give to my da...</td>\n",
       "      <td>5</td>\n",
       "      <td>1</td>\n",
       "      <td>ordered silver bird charm give daughter mark s...</td>\n",
       "    </tr>\n",
       "    <tr>\n",
       "      <th>99996</th>\n",
       "      <td>Very nice necklace, my fiancé loved it. But th...</td>\n",
       "      <td>4</td>\n",
       "      <td>1</td>\n",
       "      <td>nice necklace fianc loved chain really short f...</td>\n",
       "    </tr>\n",
       "    <tr>\n",
       "      <th>99997</th>\n",
       "      <td>Necklace appears as expected. Have not given t...</td>\n",
       "      <td>5</td>\n",
       "      <td>1</td>\n",
       "      <td>necklace appears expected given gift yet know ...</td>\n",
       "    </tr>\n",
       "    <tr>\n",
       "      <th>99998</th>\n",
       "      <td>This was a gift for my sister from my nephew f...</td>\n",
       "      <td>5</td>\n",
       "      <td>1</td>\n",
       "      <td>gift sister nephew mother day loved well made ...</td>\n",
       "    </tr>\n",
       "    <tr>\n",
       "      <th>99999</th>\n",
       "      <td>These are wonderful for light pendants, but an...</td>\n",
       "      <td>5</td>\n",
       "      <td>1</td>\n",
       "      <td>wonderful light pendant anything heavy tend sn...</td>\n",
       "    </tr>\n",
       "  </tbody>\n",
       "</table>\n",
       "<p>100000 rows × 4 columns</p>\n",
       "</div>"
      ],
      "text/plain": [
       "                                             review_body  star_rating  label  \\\n",
       "0             Pretty but too flimsy. Not what I expected            1      0   \n",
       "1           Bad quality, it started to fade after use...            1      0   \n",
       "2      Very small. Much smaller the looked on tv. Wil...            2      0   \n",
       "3                                        fake not silver            1      0   \n",
       "4      Cheap looking!  What did I expect for it's price?            2      0   \n",
       "...                                                  ...          ...    ...   \n",
       "99995  I ordered a silver bird charm to give to my da...            5      1   \n",
       "99996  Very nice necklace, my fiancé loved it. But th...            4      1   \n",
       "99997  Necklace appears as expected. Have not given t...            5      1   \n",
       "99998  This was a gift for my sister from my nephew f...            5      1   \n",
       "99999  These are wonderful for light pendants, but an...            5      1   \n",
       "\n",
       "                                             pre_process  \n",
       "0                                 pretty flimsy expected  \n",
       "1                           bad quality started fade use  \n",
       "2      small much smaller looked tv send backpretty s...  \n",
       "3                                            fake silver  \n",
       "4                             cheap looking expect price  \n",
       "...                                                  ...  \n",
       "99995  ordered silver bird charm give daughter mark s...  \n",
       "99996  nice necklace fianc loved chain really short f...  \n",
       "99997  necklace appears expected given gift yet know ...  \n",
       "99998  gift sister nephew mother day loved well made ...  \n",
       "99999  wonderful light pendant anything heavy tend sn...  \n",
       "\n",
       "[100000 rows x 4 columns]"
      ]
     },
     "execution_count": 102,
     "metadata": {},
     "output_type": "execute_result"
    }
   ],
   "source": [
    "data"
   ]
  },
  {
   "cell_type": "markdown",
   "id": "4be49e9f",
   "metadata": {},
   "source": [
    "# Feature Extraction  \n",
    "\n",
    "TF-IDF: It is a method of extracting the features from the text data. TF stands for Term Frequency and IDF stands for Inverse Document Frequency.  \n",
    "\n",
    "Term Frequency: Number of times word occurs in a review. For an example consider 2 reviews where w1,w2.. represents the words in both reviews and table defines the frequency of words in the particular review.\n",
    "\n",
    "![title](images/TD-IDF1.png)\n",
    "\n",
    "IDF is computed as\n",
    "\n",
    "idf(t)  \n",
    "= log [ n / df(t) ] + 1  \n",
    "= log[ number of documents / number of documents containing the term]+1  \n",
    "    \n",
    "![title](images/TD-IDF2.png)\n",
    "\n",
    "If smooth_idf=True.  \n",
    "Smooth-IDF = log [ n / df(t) +1 ] + 1\n",
    "\n",
    "So TF-IDF is calculated by multiplying the term frequency by the inverse document frequency (occurence * descriptiveness of word)\n",
    "![title](images/TD-IDF3.png)\n"
   ]
  },
  {
   "cell_type": "code",
   "execution_count": 105,
   "id": "fcfa7013",
   "metadata": {},
   "outputs": [
    {
     "name": "stdout",
     "output_type": "stream",
     "text": [
      "Train:  (75000,) (75000,) Test:  ((25000,), (25000,))\n"
     ]
    }
   ],
   "source": [
    "\n",
    "X_train, X_test, Y_train, Y_test = train_test_split(data['pre_process'], data['label'], test_size=0.25, random_state=30)\n",
    "print(\"Train: \", X_train.shape, Y_train.shape,\"Test: \", (X_test.shape, Y_test.shape))"
   ]
  },
  {
   "cell_type": "markdown",
   "id": "0dd7e097",
   "metadata": {},
   "source": [
    "Convert the pre-processed reviews into TF-IDF vectors"
   ]
  },
  {
   "cell_type": "code",
   "execution_count": 108,
   "id": "d882d79d",
   "metadata": {},
   "outputs": [
    {
     "name": "stdout",
     "output_type": "stream",
     "text": [
      "TFIDF Vectorizer……\n"
     ]
    }
   ],
   "source": [
    "print(\"TFIDF Vectorizer……\")\n",
    "vectorizer= TfidfVectorizer()\n",
    "tf_x_train = vectorizer.fit_transform(X_train)\n",
    "tf_x_test = vectorizer.transform(X_test)"
   ]
  },
  {
   "cell_type": "markdown",
   "id": "c9165adf",
   "metadata": {},
   "source": [
    "We can see that the vectorizer forms a collection of sparse vectors. nonzero() shows the indexes where the vector containa a value."
   ]
  },
  {
   "cell_type": "code",
   "execution_count": 117,
   "id": "ffe913bb",
   "metadata": {},
   "outputs": [
    {
     "name": "stdout",
     "output_type": "stream",
     "text": [
      "[[0. 0. 0. ... 0. 0. 0.]]\n",
      "(array([0, 0, 0, 0, 0, 0, 0, 0, 0, 0, 0, 0, 0, 0, 0, 0, 0, 0], dtype=int64), array([ 6229,  6239,  7447,  7911, 10608, 13774, 14183, 14627, 15781,\n",
      "       16017, 18889, 21413, 22324, 22407, 22466, 22748, 24324, 31983],\n",
      "      dtype=int64))\n"
     ]
    }
   ],
   "source": [
    "print(tf_x_train[0].toarray())\n",
    "print(tf_x_train[0].toarray().nonzero())"
   ]
  },
  {
   "cell_type": "markdown",
   "id": "ff9c766a",
   "metadata": {},
   "source": [
    "## SVM\n",
    "Implementing SVM with sklearn for classification"
   ]
  },
  {
   "cell_type": "code",
   "execution_count": 141,
   "id": "d28ec642",
   "metadata": {},
   "outputs": [
    {
     "data": {
      "text/plain": [
       "LinearSVC(random_state=0)"
      ]
     },
     "execution_count": 141,
     "metadata": {},
     "output_type": "execute_result"
    }
   ],
   "source": [
    "\n",
    "clf = LinearSVC(random_state=0)\n",
    "clf.fit(tf_x_train,Y_train)"
   ]
  },
  {
   "cell_type": "markdown",
   "id": "a3978f89",
   "metadata": {},
   "source": [
    "Predicting on the Test data"
   ]
  },
  {
   "cell_type": "code",
   "execution_count": 142,
   "id": "561a1e1e",
   "metadata": {},
   "outputs": [],
   "source": [
    "y_test_pred=clf.predict(tf_x_test)"
   ]
  },
  {
   "cell_type": "code",
   "execution_count": 143,
   "id": "4a994521",
   "metadata": {},
   "outputs": [],
   "source": [
    "\n",
    "report=classification_report(Y_test, y_test_pred,output_dict=True)"
   ]
  },
  {
   "cell_type": "code",
   "execution_count": 144,
   "id": "41f5059f",
   "metadata": {},
   "outputs": [
    {
     "data": {
      "text/plain": [
       "{'0': {'precision': 0.9098573792451343,\n",
       "  'recall': 0.9181774809160306,\n",
       "  'f1-score': 0.9139984960620572,\n",
       "  'support': 12576},\n",
       " '1': {'precision': 0.9164026322203266,\n",
       "  'recall': 0.9079201545396007,\n",
       "  'f1-score': 0.9121416730683701,\n",
       "  'support': 12424},\n",
       " 'accuracy': 0.91308,\n",
       " 'macro avg': {'precision': 0.9131300057327305,\n",
       "  'recall': 0.9130488177278157,\n",
       "  'f1-score': 0.9130700845652137,\n",
       "  'support': 25000},\n",
       " 'weighted avg': {'precision': 0.913110108163686,\n",
       "  'recall': 0.91308,\n",
       "  'f1-score': 0.9130757293071143,\n",
       "  'support': 25000}}"
      ]
     },
     "execution_count": 144,
     "metadata": {},
     "output_type": "execute_result"
    }
   ],
   "source": [
    "report"
   ]
  },
  {
   "cell_type": "code",
   "execution_count": 145,
   "id": "ab4d6d25",
   "metadata": {},
   "outputs": [
    {
     "data": {
      "text/markdown": [
       "By Using the SVM classifier we got an accuracy of 91.31%"
      ],
      "text/plain": [
       "<IPython.core.display.Markdown object>"
      ]
     },
     "execution_count": 145,
     "metadata": {},
     "output_type": "execute_result"
    }
   ],
   "source": [
    "SVM_accuracy = report[\"accuracy\"]\n",
    "md(\"By Using the SVM classifier we got an accuracy of {}%\".format(round(SVM_accuracy*100, 2)))"
   ]
  },
  {
   "cell_type": "markdown",
   "id": "9737b451",
   "metadata": {},
   "source": [
    "# Logistic Regression\n",
    "Logistic regression is implemented using sklearn"
   ]
  },
  {
   "cell_type": "code",
   "execution_count": 146,
   "id": "3d931b2e",
   "metadata": {},
   "outputs": [
    {
     "data": {
      "text/plain": [
       "LogisticRegression(max_iter=1000, solver='saga')"
      ]
     },
     "execution_count": 146,
     "metadata": {},
     "output_type": "execute_result"
    }
   ],
   "source": [
    "\n",
    "clf = LogisticRegression(max_iter=1000,solver='saga')\n",
    "clf.fit(tf_x_train,Y_train)"
   ]
  },
  {
   "cell_type": "markdown",
   "id": "6992d19b",
   "metadata": {},
   "source": [
    "Predicting the test data"
   ]
  },
  {
   "cell_type": "code",
   "execution_count": 147,
   "id": "4d3547fa",
   "metadata": {},
   "outputs": [],
   "source": [
    "y_test_pred=clf.predict(tf_x_test)\n",
    "report=classification_report(Y_test, y_test_pred,output_dict=True)"
   ]
  },
  {
   "cell_type": "code",
   "execution_count": 148,
   "id": "840ebb2a",
   "metadata": {},
   "outputs": [
    {
     "data": {
      "text/plain": [
       "{'0': {'precision': 0.9079749804534792,\n",
       "  'recall': 0.923425572519084,\n",
       "  'f1-score': 0.9156351021051802,\n",
       "  'support': 12576},\n",
       " '1': {'precision': 0.9211302211302211,\n",
       "  'recall': 0.90526400515132,\n",
       "  'f1-score': 0.9131281968011692,\n",
       "  'support': 12424},\n",
       " 'accuracy': 0.9144,\n",
       " 'macro avg': {'precision': 0.9145526007918502,\n",
       "  'recall': 0.914344788835202,\n",
       "  'f1-score': 0.9143816494531747,\n",
       "  'support': 25000},\n",
       " 'weighted avg': {'precision': 0.914512608860193,\n",
       "  'recall': 0.9144,\n",
       "  'f1-score': 0.9143892704452989,\n",
       "  'support': 25000}}"
      ]
     },
     "execution_count": 148,
     "metadata": {},
     "output_type": "execute_result"
    }
   ],
   "source": [
    "report"
   ]
  },
  {
   "cell_type": "code",
   "execution_count": 149,
   "id": "8b2d724f",
   "metadata": {},
   "outputs": [
    {
     "data": {
      "text/markdown": [
       "By Using the Logistic regression classifier we got an accuracy of 91.44%"
      ],
      "text/plain": [
       "<IPython.core.display.Markdown object>"
      ]
     },
     "execution_count": 149,
     "metadata": {},
     "output_type": "execute_result"
    }
   ],
   "source": [
    "Logistic_accuracy = report[\"accuracy\"]\n",
    "md(\"By Using the Logistic regression classifier we got an accuracy of {}%\".format(round(Logistic_accuracy*100, 2)))"
   ]
  }
 ],
 "metadata": {
  "kernelspec": {
   "display_name": "Python 3 (ipykernel)",
   "language": "python",
   "name": "python3"
  },
  "language_info": {
   "codemirror_mode": {
    "name": "ipython",
    "version": 3
   },
   "file_extension": ".py",
   "mimetype": "text/x-python",
   "name": "python",
   "nbconvert_exporter": "python",
   "pygments_lexer": "ipython3",
   "version": "3.8.10"
  }
 },
 "nbformat": 4,
 "nbformat_minor": 5
}
